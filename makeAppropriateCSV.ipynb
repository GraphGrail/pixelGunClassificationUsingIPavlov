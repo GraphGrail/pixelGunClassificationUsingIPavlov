{
 "cells": [
  {
   "cell_type": "code",
   "execution_count": 3,
   "metadata": {
    "collapsed": true
   },
   "outputs": [],
   "source": [
    "import xlrd\n",
    "import csv"
   ]
  },
  {
   "cell_type": "code",
   "execution_count": 8,
   "metadata": {
    "collapsed": true
   },
   "outputs": [],
   "source": [
    "book = xlrd.open_workbook(\"new_labeled_4000.xlsx\")"
   ]
  },
  {
   "cell_type": "code",
   "execution_count": 9,
   "metadata": {},
   "outputs": [],
   "source": [
    "sheet = book.sheets()[0]"
   ]
  },
  {
   "cell_type": "code",
   "execution_count": 36,
   "metadata": {},
   "outputs": [
    {
     "data": {
      "text/plain": [
       "float"
      ]
     },
     "execution_count": 36,
     "metadata": {},
     "output_type": "execute_result"
    }
   ],
   "source": [
    "type(sheet.cell(2340, 2).value)"
   ]
  },
  {
   "cell_type": "code",
   "execution_count": 30,
   "metadata": {},
   "outputs": [],
   "source": [
    "rowNumber = sheet.nrows"
   ]
  },
  {
   "cell_type": "code",
   "execution_count": 37,
   "metadata": {},
   "outputs": [],
   "source": [
    "row = 1\n",
    "with open(\"train.csv\", \"w\") as fp:\n",
    "    writer = csv.writer(fp, delimiter=\"\\t\")\n",
    "    writer.writerow([\"text\", \"labels\"])\n",
    "    while row < rowNumber:\n",
    "        request = sheet.cell(row, 1).value\n",
    "        category = sheet.cell(row, 2).value\n",
    "        if type(category) == float:\n",
    "            if category == 0:\n",
    "                category = \"Other\"\n",
    "            elif category == 1:\n",
    "                category = \"Balance\"\n",
    "            elif category == 2:\n",
    "                category = \"Graphics\"\n",
    "            elif category == 3:\n",
    "                category = \"Bug\"\n",
    "            elif category == 4:\n",
    "                category = \"Advertising\"\n",
    "            elif category == 5:\n",
    "                category = \"Monetization\"    \n",
    "        writer.writerow([request, category])\n",
    "        row += 1"
   ]
  },
  {
   "cell_type": "code",
   "execution_count": null,
   "metadata": {
    "collapsed": true
   },
   "outputs": [],
   "source": []
  }
 ],
 "metadata": {
  "kernelspec": {
   "display_name": "keras",
   "language": "python",
   "name": "keras"
  },
  "language_info": {
   "codemirror_mode": {
    "name": "ipython",
    "version": 3
   },
   "file_extension": ".py",
   "mimetype": "text/x-python",
   "name": "python",
   "nbconvert_exporter": "python",
   "pygments_lexer": "ipython3",
   "version": "3.5.4"
  }
 },
 "nbformat": 4,
 "nbformat_minor": 2
}
